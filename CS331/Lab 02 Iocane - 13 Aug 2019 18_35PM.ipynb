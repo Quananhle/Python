{
 "cells": [
  {
   "cell_type": "markdown",
   "metadata": {
    "state": "normal"
   },
   "source": [
    "# Lab 02: Iocane Powder\n",
    "\n",
    "## Overview\n",
    "\n",
    "> Man in Black: All right. Where is the poison? The battle of wits has begun. It ends when you decide and we both drink, and find out who is right... and who is dead. \n",
    "\n",
    "The line above is from the perennial favorite 1980s movie adaptation of William Goldman's *The Princess Bride*, wherein a mysterious hero sits down to a battle of wits with a villainous Sicilian kidnapper. The setup: two cups positioned between the two, one of which (purportedly) contains a colorless, odorless, lethal poison (viz., iocane powder). After a guess is made as to which cup contains the poison, both drink, and the winner is the one left standing.\n",
    "\n",
    "For this machine problem you will write a program that simulates multiple rounds of this battle of wits, allowing the player to repeatedly guess which cup is poisoned. The computer will \"place\" the poison before the player guesses, and\n",
    "will reveal who is right... and who is dead, afterwards.\n",
    "\n",
    "At the outset, the computer will always place the poison in cup 2 before letting the player guess, but after enough guesses have been entered the computer will start to place the poison based on the pattern of previous guesses so as to outsmart the player.\n",
    "\n",
    "Here's a sample game session (note how the silly player keeps alternating guesses, and that the computer catches on to this fact after a while):\n",
    "\n",
    "    Where is the iocane powder: my cup (1) or yours (2)? 1\n",
    "    Wrong! Ha! Never bet against a Sicilian!\n",
    "\n",
    "    You died 1 times, and I drank the poison 0 times\n",
    "\n",
    "    Where is the iocane powder: my cup (1) or yours (2)? 2\n",
    "    Good guess! Ack! I drank the poison!\n",
    "\n",
    "    You died 1 times, and I drank the poison 1 times\n",
    "\n",
    "    Where is the iocane powder: my cup (1) or yours (2)? 1\n",
    "    Wrong! Ha! Never bet against a Sicilian!\n",
    "\n",
    "    You died 2 times, and I drank the poison 1 times\n",
    "\n",
    "    Where is the iocane powder: my cup (1) or yours (2)? 2\n",
    "    Good guess! Ack! I drank the poison!\n",
    "\n",
    "    You died 2 times, and I drank the poison 2 times\n",
    "\n",
    "    Where is the iocane powder: my cup (1) or yours (2)? 1\n",
    "    Wrong! Ha! Never bet against a Sicilian!\n",
    "\n",
    "    You died 3 times, and I drank the poison 2 times\n",
    "\n",
    "    Where is the iocane powder: my cup (1) or yours (2)? 2\n",
    "    Wrong! Ha! Never bet against a Sicilian!\n",
    "\n",
    "    You died 4 times, and I drank the poison 2 times\n",
    "\n",
    "    Where is the iocane powder: my cup (1) or yours (2)? 1\n",
    "    Wrong! Ha! Never bet against a Sicilian!\n",
    "\n",
    "    You died 5 times, and I drank the poison 2 times\n",
    "\n",
    "    Where is the iocane powder: my cup (1) or yours (2)? 2\n",
    "    Wrong! Ha! Never bet against a Sicilian!\n",
    "\n",
    "    You died 6 times, and I drank the poison 2 times\n",
    "\n",
    "    Where is the iocane powder: my cup (1) or yours (2)? 1\n",
    "    Wrong! Ha! Never bet against a Sicilian!\n",
    "\n",
    "    You died 7 times, and I drank the poison 2 times\n",
    "\n",
    "\n",
    "## Implementation\n",
    "\n",
    "To keep track of the pattern of previous guesses, you will use a dictionary that maps a pattern (of fixed length) to a list of counts for the subsequent guess. \n",
    "\n",
    "For instance, imagine that the computer observes the player continuing to alternate guesses across ten separate attempts, like so: '1', '2', '1', '2', '1', '2', '1', '2', '1', '2'. If we are using a pattern detection length of three, then after the fourth guess we can create an entry in our dictionary that maps the key '121' to the list [0, 1], where the second value (1) in the list indicates that the player guessed '2' following the sequence '1', '2', '1'. After the fifth guess, we create the entry '212' &rarr; [1, 0], and after the sixth guess we update the value for '121' to [0, 2] (since the user guesses '2' again, after the sequence '1', '2', '1').\n",
    "\n",
    "Once the player enters a series of guesses that matches a previously seen pattern, the computer should place the poison in the cup that the player is *least likely to guess next*. When the player enters the next guess, the dictionary should be updated to reflect the actual guess.\n",
    "\n",
    "This means that if the computer has yet to see a given pattern of guesses, or when the counts are tied, it will have to place the poison \"blindly\" --- your implementation should simply place the poison furthest away from itself (cup 2). \n",
    "\n",
    "### `record_guess`\n",
    "\n",
    "The first function you are to complete is `record_guess`. It will take the following arguments:\n",
    "\n",
    "- a dictionary to update (possibly containing previously recorded pattern &rarr; list mappings)\n",
    "- a pattern string\n",
    "- a guess -- which is either '1' or '2'.  \n",
    "\n",
    "If necessary, the function will create a new entry for the pattern (if one doesn't already exist), then record the updated count for the guess. Since the dictionary is updated in place (i.e., mutated), the function will not return anything. \n",
    "\n",
    "Complete the function below, checking your implementation with the test cases that follow when you're ready. Note that in the future, the bulk of the description for functions we ask you to implement will simply be placed in the functions' docstrings, as below.\n",
    "\n",
    "*Hints: the [`int`](https://docs.python.org/3/library/functions.html#int) function can be used to convert strings to integers, and you might find the dictionary's [`setdefault`](https://docs.python.org/3/library/stdtypes.html?highlight=setdefault#dict.setdefault) method useful.*"
   ]
  },
  {
   "cell_type": "code",
   "execution_count": null,
   "metadata": {
    "collapsed": true,
    "deletable": false,
    "id": "record_guess",
    "nbgrader": {
     "grade": false,
     "grade_id": "record_guess",
     "locked": false,
     "schema_version": 1,
     "solution": true
    },
    "starter_code": "def record_guess(pattern_dict, pattern, guess):\n    \"\"\"Updates the `pattern_dict` dictionary by either creating a new entry\n    or updating an existing entry for key `pattern`, increasing the count \n    corresponding to `guess` in the list.\"\"\"\n    ",
    "state": "graded"
   },
   "outputs": [],
   "source": [
    "def record_guess(pattern_dict, pattern, guess):\n",
    "    \"\"\"Updates the `pattern_dict` dictionary by either creating a new entry\n",
    "    or updating an existing entry for key `pattern`, increasing the count \n",
    "    corresponding to `guess` in the list.\"\"\"\n",
    "    ### BEGIN SOLUTION\n",
    "    counts = pattern_dict.setdefault(pattern, [0, 0])\n",
    "    counts[int(guess)-1] += 1\n",
    "    ### END SOLUTION"
   ]
  },
  {
   "cell_type": "code",
   "execution_count": null,
   "metadata": {
    "collapsed": true,
    "deletable": false,
    "editable": false,
    "id": "test_record_guess",
    "nbgrader": {
     "grade": true,
     "grade_id": "test_record_guess",
     "locked": true,
     "points": 5,
     "schema_version": 1,
     "solution": false
    },
    "state": "read_only"
   },
   "outputs": [],
   "source": [
    "# (5 points)\n",
    "\n",
    "from unittest import TestCase\n",
    "tc = TestCase()\n",
    "d = {}\n",
    "record_guess(d, '121', '1')\n",
    "tc.assertDictEqual(d, {'121': [1, 0]})\n",
    "record_guess(d, '222', '2')\n",
    "record_guess(d, '121', '1')\n",
    "tc.assertDictEqual(d, {'121': [2, 0], '222': [0, 1]})\n",
    "record_guess(d, '122', '2')\n",
    "record_guess(d, '121', '2')\n",
    "record_guess(d, '222', '2')\n",
    "tc.assertDictEqual(d, {'121': [2, 1], '122': [0, 1], '222': [0, 2]})"
   ]
  },
  {
   "cell_type": "markdown",
   "metadata": {
    "state": "normal"
   },
   "source": [
    "### `next_placement`\n",
    "\n",
    "The next function you'll write will take a dictionary of pattern &rarr; counts mappings and a string representing the pattern of most recent guesses, and return the next best location (either '1' or '2') for the poison (i.e., to try and outwit the player). If the pattern hasn't been seen previously or the counts are tied, the function should return '2'."
   ]
  },
  {
   "cell_type": "code",
   "execution_count": null,
   "metadata": {
    "collapsed": true,
    "deletable": false,
    "id": "next_placement",
    "nbgrader": {
     "grade": false,
     "grade_id": "next_placement",
     "locked": false,
     "schema_version": 1,
     "solution": true
    },
    "starter_code": "def next_placement(pattern_dict, pattern):\n    ",
    "state": "graded"
   },
   "outputs": [],
   "source": [
    "def next_placement(pattern_dict, pattern):\n",
    "    ### BEGIN SOLUTION\n",
    "    counts = pattern_dict.get(pattern, [0, 0])\n",
    "    if counts[0] == counts[1]:\n",
    "        return '2'\n",
    "    elif counts[0] > counts[1]:\n",
    "        return '2'\n",
    "    else:\n",
    "        return '1'\n",
    "    ### END SOLUTION"
   ]
  },
  {
   "cell_type": "code",
   "execution_count": null,
   "metadata": {
    "collapsed": true,
    "deletable": false,
    "editable": false,
    "id": "test_next_placement",
    "nbgrader": {
     "grade": true,
     "grade_id": "test_next_placement",
     "locked": true,
     "points": 5,
     "schema_version": 1,
     "solution": false
    },
    "state": "read_only"
   },
   "outputs": [],
   "source": [
    "# (5 points)\n",
    "\n",
    "from unittest import TestCase\n",
    "tc = TestCase()\n",
    "tc.assertEqual(next_placement({}, '121'), '2')\n",
    "tc.assertEqual(next_placement({'121': [2, 0]}, '121'), '2')\n",
    "tc.assertEqual(next_placement({'121': [2, 5]}, '121'), '1')\n",
    "tc.assertEqual(next_placement({'121': [2, 5]}, '212'), '2')\n",
    "tc.assertEqual(next_placement({'121': [5, 5]}, '121'), '2')\n",
    "tc.assertEqual(next_placement({'121': [15, 5]}, '121'), '2')\n",
    "tc.assertEqual(next_placement({'121': [2, 5],\n",
    "                               '212': [1, 1]}, '212'), '2')\n",
    "tc.assertEqual(next_placement({'121': [2, 5],\n",
    "                               '212': [1, 3]}, '212'), '1')"
   ]
  },
  {
   "cell_type": "markdown",
   "metadata": {
    "state": "normal"
   },
   "source": [
    "### `play_interactive`\n",
    "\n",
    "Now for the fun bit. The function `play_interactive` will take just one argument --- the length of patterns to use as keys in the dictionary --- and will start an interactive game session, reading either '1' or '2' from the player as guesses, using the functions you wrote above and producing output as shown in the sample game session at the beginning of this writeup. If the player types in any other input (besides '1' or '2'), the game should terminate.\n",
    "\n",
    "*Hint: the [`input`](https://docs.python.org/3/library/functions.html#input) function can be used to read input from the user as a string.*"
   ]
  },
  {
   "cell_type": "code",
   "execution_count": null,
   "metadata": {
    "collapsed": true,
    "deletable": false,
    "id": "play_interactive",
    "nbgrader": {
     "grade": true,
     "grade_id": "play_interactive",
     "locked": false,
     "points": 0,
     "schema_version": 1,
     "solution": true
    },
    "starter_code": "def play_interactive(pattern_length=4):\n    ",
    "state": "graded"
   },
   "outputs": [],
   "source": [
    "def play_interactive(pattern_length=4):\n",
    "    ### BEGIN SOLUTION\n",
    "    wins = 0\n",
    "    losses = 0\n",
    "    prev_guesses = ''\n",
    "    patterns_dict = {}\n",
    "    while True:\n",
    "        iocane_loc = next_placement(patterns_dict, prev_guesses)\n",
    "        guess = input('Where is the iocane powder: my cup (1) or yours (2)? ')\n",
    "\n",
    "        if not (guess == '1' or guess == '2'):\n",
    "            break\n",
    "        elif guess == iocane_loc:\n",
    "            print('Good guess! Ack! I drank the poison!')\n",
    "            wins += 1\n",
    "        else:\n",
    "            print('Wrong! Ha! Never bet against a Sicilian!')\n",
    "            losses += 1\n",
    "        print('\\nYou died', losses, 'times, and I drank the poison', wins, 'times\\n')\n",
    "\n",
    "        record_guess(patterns_dict, prev_guesses, guess)\n",
    "        if len(prev_guesses) == pattern_length:\n",
    "            prev_guesses = prev_guesses[1:]\n",
    "        prev_guesses += guess\n",
    "    ### END SOLUTION"
   ]
  },
  {
   "cell_type": "markdown",
   "metadata": {
    "state": "normal"
   },
   "source": [
    "### `play_batch`\n",
    "\n",
    "Finally, so that we can check your implementation against a lengthier sequence of guesses without having to play an interactive session, implement the `play_batch` function, which will take the `pattern_length` argument as your `play_interactive` function did, but will also take a sequence of guesses. The function will return the total numbers of wins and losses, as determined by the same algorithm as before."
   ]
  },
  {
   "cell_type": "code",
   "execution_count": null,
   "metadata": {
    "collapsed": true,
    "deletable": false,
    "id": "play_batch",
    "nbgrader": {
     "grade": false,
     "grade_id": "play_batch",
     "locked": false,
     "schema_version": 1,
     "solution": true
    },
    "starter_code": "def play_batch(guesses, pattern_length=4):\n    ",
    "state": "graded"
   },
   "outputs": [],
   "source": [
    "def play_batch(guesses, pattern_length=4):\n",
    "    ### BEGIN SOLUTION\n",
    "    wins = 0\n",
    "    losses = 0\n",
    "    prev_guesses = ''\n",
    "    patterns_dict = {}\n",
    "    for guess in guesses:\n",
    "        iocane_loc = next_placement(patterns_dict, prev_guesses)\n",
    "        if guess == iocane_loc:\n",
    "            wins += 1\n",
    "        else:\n",
    "            losses += 1\n",
    "        record_guess(patterns_dict, prev_guesses, guess)\n",
    "        if len(prev_guesses) == pattern_length:\n",
    "            prev_guesses = prev_guesses[1:]\n",
    "        prev_guesses += guess\n",
    "    return (wins, losses)\n",
    "    ### END SOLUTION"
   ]
  },
  {
   "cell_type": "code",
   "execution_count": null,
   "metadata": {
    "collapsed": true,
    "deletable": false,
    "editable": false,
    "id": "test_play_batch",
    "nbgrader": {
     "grade": true,
     "grade_id": "test_play_batch",
     "locked": true,
     "points": 10,
     "schema_version": 1,
     "solution": false
    },
    "state": "read_only"
   },
   "outputs": [],
   "source": [
    "# (10 points)\n",
    "\n",
    "from unittest import TestCase\n",
    "tc = TestCase()\n",
    "tc.assertEqual(play_batch(['1', '1', '1', '1', '1', '1'], 3), (0, 6))\n",
    "tc.assertEqual(play_batch(['1', '2', '1', '2', '1', '2'], 3), (2, 4))\n",
    "tc.assertEqual(play_batch(['1', '2', '1', '2', '1', '2'], 4), (3, 3))\n",
    "tc.assertEqual(play_batch(['1', '2'] * 100, 5), (3, 197))\n",
    "tc.assertEqual(play_batch(['1', '1', '2', '1', '2', '1'] * 100, 2), (398, 202))\n",
    "tc.assertEqual(play_batch(['1', '1', '2', '1', '2', '1'] * 100, 3), (201, 399))\n",
    "tc.assertEqual(play_batch(['1', '1', '2', '1', '2', '1'] * 100, 5), (4, 596))\n",
    "import random\n",
    "random.seed(0, version=2)\n",
    "tc.assertEqual(play_batch((random.choice(['1', '2']) for _ in range(10000)), 4), (5047, 4953))"
   ]
  }
 ],
 "metadata": {
  "anaconda-cloud": {},
  "kernelspec": {
   "display_name": "Python [default]",
   "language": "python",
   "name": "python3"
  },
  "language_info": {
   "codemirror_mode": {
    "name": "ipython",
    "version": 3
   },
   "file_extension": ".py",
   "mimetype": "text/x-python",
   "name": "python",
   "nbconvert_exporter": "python",
   "pygments_lexer": "ipython3",
   "version": "3.5.2"
  },
  "mimir": {
   "data": {},
   "last_submission_id": "",
   "project_id": "8f7715b9-ee27-4072-8e3b-1f9cb26d2ece"
  },
  "varInspector": {
   "cols": {
    "lenName": 16,
    "lenType": 16,
    "lenVar": 40
   },
   "kernels_config": {
    "python": {
     "delete_cmd_postfix": "",
     "delete_cmd_prefix": "del ",
     "library": "var_list.py",
     "varRefreshCmd": "print(var_dic_list())"
    },
    "r": {
     "delete_cmd_postfix": ") ",
     "delete_cmd_prefix": "rm(",
     "library": "var_list.r",
     "varRefreshCmd": "cat(var_dic_list()) "
    }
   },
   "types_to_exclude": [
    "module",
    "function",
    "builtin_function_or_method",
    "instance",
    "_Feature"
   ],
   "window_display": false
  }
 },
 "nbformat": 4,
 "nbformat_minor": 2
}
