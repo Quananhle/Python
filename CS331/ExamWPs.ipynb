{
 "cells": [
  {
   "cell_type": "code",
   "execution_count": 2,
   "metadata": {
    "collapsed": true
   },
   "outputs": [],
   "source": [
    "class MyIt:\n",
    "    def __init__(self):\n",
    "        self.x = 100\n",
    "    def __iter__(self):\n",
    "        return self\n",
    "    def __next__(self):\n",
    "        if self.x < 0:\n",
    "            raise StopIteration\n",
    "        else:\n",
    "            self.x -= 20\n",
    "            return self.x"
   ]
  },
  {
   "cell_type": "code",
   "execution_count": 3,
   "metadata": {
    "collapsed": false,
    "scrolled": true
   },
   "outputs": [
    {
     "data": {
      "text/plain": [
       "[80, 60, 40, 20, 0, -20]"
      ]
     },
     "execution_count": 3,
     "metadata": {},
     "output_type": "execute_result"
    }
   ],
   "source": [
    "[x for x in MyIt()]"
   ]
  },
  {
   "cell_type": "code",
   "execution_count": 4,
   "metadata": {
    "collapsed": true
   },
   "outputs": [],
   "source": [
    "def consolidate (lsts):\n",
    "    toReturnDict = {}              # initialize an empty dict\n",
    "    tmp = []                       # initialize an empty list\n",
    "    \n",
    "    for i in lsts:                 # for each element (list) i in the list of lists \n",
    "        for j in i:                # for each element j in (lists) i\n",
    "            tmp.append(j)          # append() into a single list\n",
    "    print(tmp)\n",
    "    print(set(tmp))\n",
    "            \n",
    "    for num in set(tmp):\n",
    "        cnt = 0\n",
    "        for elements in tmp:\n",
    "            if elements == num:\n",
    "                cnt += 1\n",
    "        toReturnDict[num] = cnt\n",
    "    \n",
    "    return toReturnDict"
   ]
  },
  {
   "cell_type": "code",
   "execution_count": 5,
   "metadata": {
    "collapsed": false,
    "scrolled": false
   },
   "outputs": [
    {
     "name": "stdout",
     "output_type": "stream",
     "text": [
      "[1, 2, 3, 1, 1, 1, 2, 4, 1]\n",
      "{1, 2, 3, 4}\n"
     ]
    },
    {
     "data": {
      "text/plain": [
       "{1: 5, 2: 2, 3: 1, 4: 1}"
      ]
     },
     "execution_count": 5,
     "metadata": {},
     "output_type": "execute_result"
    }
   ],
   "source": [
    "consolidate ([[1,2,3], [1,1,1], [2,4], [1]])"
   ]
  },
  {
   "cell_type": "code",
   "execution_count": 6,
   "metadata": {
    "collapsed": false
   },
   "outputs": [],
   "source": [
    "def consolidate(*lsts):\n",
    "    # single star * allows a function to accept any number of positional and named arguments \n",
    "    # that aren't specifically named in the declaration\n",
    "    toReturnDict = {}\n",
    "    \n",
    "    for tmp in lsts:\n",
    "        for num in tmp:\n",
    "            if num in toReturnDict.keys():\n",
    "                toReturnDict[num] += 1\n",
    "            else:\n",
    "                toReturnDict[num] = 1\n",
    "                \n",
    "    return toReturnDict"
   ]
  },
  {
   "cell_type": "code",
   "execution_count": 7,
   "metadata": {
    "collapsed": false
   },
   "outputs": [
    {
     "data": {
      "text/plain": [
       "{1: 5, 2: 2, 3: 1, 4: 1}"
      ]
     },
     "execution_count": 7,
     "metadata": {},
     "output_type": "execute_result"
    }
   ],
   "source": [
    "consolidate([1,2,3],[1,1,1],[2,4],[1])"
   ]
  },
  {
   "cell_type": "code",
   "execution_count": 8,
   "metadata": {
    "collapsed": true
   },
   "outputs": [],
   "source": [
    "def sum(*values):\n",
    "    s = 0\n",
    "    for v in values:\n",
    "        s = s + v\n",
    "    return s"
   ]
  },
  {
   "cell_type": "code",
   "execution_count": 9,
   "metadata": {
    "collapsed": false
   },
   "outputs": [
    {
     "data": {
      "text/plain": [
       "15"
      ]
     },
     "execution_count": 9,
     "metadata": {},
     "output_type": "execute_result"
    }
   ],
   "source": [
    "s = sum(1, 2, 3, 4, 5)\n",
    "s"
   ]
  },
  {
   "cell_type": "code",
   "execution_count": 140,
   "metadata": {
    "collapsed": true
   },
   "outputs": [],
   "source": [
    "# Only search for the element whether it is in the second half of the list \n",
    "def search2ndhalf(lst, x): \n",
    "    n = len(lst)\n",
    "    mid = n//2\n",
    "    if (lst[mid] == x) : # if x is located in the middle of lst => O(1)\n",
    "        return \"Found\"\n",
    "    i = mid\n",
    "    while (i < n-1) :    # Check the second half => O((N-1)/2) => O(N)\n",
    "        if (lst[i+1] == x) : \n",
    "            return \"Found In The Second Half Of The List\"          \n",
    "        i += 1\n",
    "    # Don't care if it appears in the first half of lst\n",
    "    return \"Not Found In The Second Half Of The List\" "
   ]
  },
  {
   "cell_type": "code",
   "execution_count": 141,
   "metadata": {
    "collapsed": false
   },
   "outputs": [
    {
     "data": {
      "text/plain": [
       "'Found In The Second Half Of The List'"
      ]
     },
     "execution_count": 141,
     "metadata": {},
     "output_type": "execute_result"
    }
   ],
   "source": [
    "lst = [4, 6, 1, 5, 8, 9, 3, 7, 23, 12] \n",
    "x = 23\n",
    "search2ndhalf(lst, x)"
   ]
  },
  {
   "cell_type": "code",
   "execution_count": 1,
   "metadata": {
    "collapsed": true
   },
   "outputs": [],
   "source": [
    "def search(lst, x): \n",
    "    n = len(lst)\n",
    "    if (lst[n-1] == x) : \n",
    "        return \"Found\"\n",
    "    backup = lst[n-1] \n",
    "    lst[n-1] = x \n",
    "    i = 0\n",
    "    while(i < n) : \n",
    "        if (lst[i] == x) : \n",
    "            lst[n-1] = backup \n",
    "            if (i < n-1): \n",
    "                return \"Found\"\n",
    "            return \"Not Found\"\n",
    "        i = i + 1"
   ]
  },
  {
   "cell_type": "code",
   "execution_count": 2,
   "metadata": {
    "collapsed": false
   },
   "outputs": [
    {
     "data": {
      "text/plain": [
       "'Not Found'"
      ]
     },
     "execution_count": 2,
     "metadata": {},
     "output_type": "execute_result"
    }
   ],
   "source": [
    "arr = [4, 6, 1, 5, 8, 9, 3, 7, 23, 12] \n",
    "x = 18\n",
    "search(arr, x)"
   ]
  },
  {
   "cell_type": "code",
   "execution_count": 3,
   "metadata": {
    "collapsed": true
   },
   "outputs": [],
   "source": [
    "def fC(lst):\n",
    "    N = len(lst)                \n",
    "    if N > 1:                   \n",
    "        mid = N // 2                                  \n",
    "        if lst[mid] < lst[0] and lst[mid] < lst[N-1]:\n",
    "            return lst[mid]\n",
    "        elif lst[0] < lst[N-1]:\n",
    "            return lst[0]\n",
    "        else:\n",
    "            return lst[N-1]\n",
    "    else:\n",
    "        return lst[0]"
   ]
  },
  {
   "cell_type": "code",
   "execution_count": 6,
   "metadata": {
    "collapsed": false
   },
   "outputs": [
    {
     "data": {
      "text/plain": [
       "9"
      ]
     },
     "execution_count": 6,
     "metadata": {},
     "output_type": "execute_result"
    }
   ],
   "source": [
    "lst = [16, 6, 1, 5, 8, 9, 3, 7, 23, 12] \n",
    "fC(lst)"
   ]
  }
 ],
 "metadata": {
  "anaconda-cloud": {},
  "kernelspec": {
   "display_name": "Python [default]",
   "language": "python",
   "name": "python3"
  },
  "language_info": {
   "codemirror_mode": {
    "name": "ipython",
    "version": 3
   },
   "file_extension": ".py",
   "mimetype": "text/x-python",
   "name": "python",
   "nbconvert_exporter": "python",
   "pygments_lexer": "ipython3",
   "version": "3.5.2"
  }
 },
 "nbformat": 4,
 "nbformat_minor": 1
}
