{
 "cells": [
  {
   "cell_type": "markdown",
   "metadata": {
    "state": "normal"
   },
   "source": [
    "# Lab 08: Circular, Array-backed Queue"
   ]
  },
  {
   "cell_type": "markdown",
   "metadata": {
    "state": "normal"
   },
   "source": [
    "## Overview\n",
    "\n",
    "For this assignment you will implement a circular, array-backed queue data structure.\n",
    "\n",
    "In the following class, which you are to complete, the backing array will be created and populated with `None`s in the `__init__` method, and the `head` and `tail` indexes set to sentinel values (you shouldn't need to modify `__init__`). Enqueueing and Dequeueing items will take place at the tail and head, with `tail` and `head` tracking the position of the most recently enqueued item and that of the next item to dequeue, respectively. To simplify testing, your implementation should make sure that when dequeuing an item its slot in the array is reset to `None`, and when the queue is emptied its `head` and `tail` attributes should be set to `-1`.\n",
    "\n",
    "Because of the fixed size backing array, the `enqueue` operation is defined to raise a `RuntimeError` when the queue is full — the same exception should be raised when `dequeue` is called on an empty queue.\n",
    "\n",
    "Finally, the `resize` method will allow the array underlying the queue to be increased in size. It is up to you how to implement this (you can either leave the elements in their current positions, though this may require \"unwrapping\" elements, or you can simply move all elements towards the front of the array). You may assume that `resize` will only be called with a value greater than the current length of the underlying array."
   ]
  },
  {
   "cell_type": "code",
   "execution_count": 1,
   "metadata": {
    "collapsed": true,
    "deletable": false,
    "id": "queue",
    "nbgrader": {
     "grade": false,
     "grade_id": "queue",
     "locked": false,
     "schema_version": 1,
     "solution": true
    },
    "starter_code": "class Queue:\n    def __init__(self, limit=10):\n        self.data = [None] * limit\n        self.head = -1\n        self.tail = -1\n\n    \n\n    def enqueue(self, val):\n        \n        \n    def dequeue(self):\n        \n    \n    def resize(self, newsize):\n        assert(len(self.data) < newsize)\n        \n    \n    def empty(self):\n        \n    \n    def __bool__(self):\n        return not self.empty()\n    \n    def __str__(self):\n        if not(self):\n            return ''\n        return ', '.join(str(x) for x in self)\n    \n    def __repr__(self):\n        return str(self)\n    \n    def __iter__(self):\n        ",
    "state": "graded"
   },
   "outputs": [],
   "source": [
    "class Queue:\n",
    "    def __init__(self, limit=10):\n",
    "        self.data = [None] * limit\n",
    "        self.head = -1\n",
    "        self.tail = -1\n",
    "\n",
    "    ### BEGIN SOLUTION\n",
    "    def _inc_idx(self, i):\n",
    "        return (i + 1) % len(self.data)\n",
    "    ### END SOLUTION\n",
    "\n",
    "    def enqueue(self, val):\n",
    "        ### BEGIN SOLUTION\n",
    "        if self.head < 0:\n",
    "            self.head = self.tail = 0\n",
    "            self.data[0] = val\n",
    "        elif self._inc_idx(self.tail) == self.head:\n",
    "            raise RuntimeError('Queue is full!')\n",
    "        else:\n",
    "            self.tail = self._inc_idx(self.tail)\n",
    "            self.data[self.tail] = val\n",
    "        ### END SOLUTION\n",
    "        \n",
    "    def dequeue(self):\n",
    "        ### BEGIN SOLUTION\n",
    "        if self.head < 0:\n",
    "            raise RuntimeError('Queue is empty!')\n",
    "        retval = self.data[self.head]\n",
    "        self.data[self.head] = None\n",
    "        if self.head == self.tail:\n",
    "            self.head = self.tail = -1\n",
    "        else:\n",
    "            self.head = self._inc_idx(self.head)\n",
    "        return retval\n",
    "        ### END SOLUTION\n",
    "    \n",
    "    def resize(self, newsize):\n",
    "        assert(len(self.data) < newsize)\n",
    "        ### BEGIN SOLUTION\n",
    "        newdata = list(self)\n",
    "        if self.head > 0:\n",
    "            self.head = 0\n",
    "            self.tail = len(self.data) - 1\n",
    "        newdata.extend([ None ] * (newsize - len(newdata)))\n",
    "        self.data = newdata\n",
    "        ### END SOLUTION\n",
    "    \n",
    "    def empty(self):\n",
    "        ### BEGIN SOLUTION\n",
    "        return self.head < 0\n",
    "        ### END SOLUTION\n",
    "    \n",
    "    def __bool__(self):\n",
    "        return not self.empty()\n",
    "    \n",
    "    def __str__(self):\n",
    "        if not(self):\n",
    "            return ''\n",
    "        return ', '.join(str(x) for x in self)\n",
    "    \n",
    "    def __repr__(self):\n",
    "        return str(self)\n",
    "    \n",
    "    def __iter__(self):\n",
    "        ### BEGIN SOLUTION\n",
    "        if self.head < 0:\n",
    "            return\n",
    "        i = self.head\n",
    "        while True:\n",
    "            yield self.data[i]\n",
    "            if i == self.tail:\n",
    "                break\n",
    "            i = self._inc_idx(i)\n",
    "        ### END SOLUTION"
   ]
  },
  {
   "cell_type": "code",
   "execution_count": 2,
   "metadata": {
    "collapsed": true,
    "deletable": false,
    "editable": false,
    "id": "queue_tests_1",
    "nbgrader": {
     "grade": true,
     "grade_id": "queue_tests_1",
     "locked": true,
     "points": 5,
     "schema_version": 1,
     "solution": false
    },
    "state": "read_only"
   },
   "outputs": [],
   "source": [
    "# (5 points)\n",
    "\n",
    "from unittest import TestCase\n",
    "tc = TestCase()\n",
    "\n",
    "q = Queue(5)\n",
    "tc.assertEqual(q.data, [None] * 5)\n",
    "\n",
    "for i in range(5):\n",
    "    q.enqueue(i)\n",
    "    \n",
    "with tc.assertRaises(RuntimeError):\n",
    "    q.enqueue(5)\n",
    "\n",
    "for i in range(5):\n",
    "    tc.assertEqual(q.dequeue(), i)\n",
    "    \n",
    "tc.assertTrue(q.empty())"
   ]
  },
  {
   "cell_type": "code",
   "execution_count": 3,
   "metadata": {
    "collapsed": true,
    "deletable": false,
    "editable": false,
    "id": "queue_tests_2",
    "nbgrader": {
     "grade": true,
     "grade_id": "queue_tests_2",
     "locked": true,
     "points": 5,
     "schema_version": 1,
     "solution": false
    },
    "state": "read_only"
   },
   "outputs": [],
   "source": [
    "# (5 points)\n",
    "\n",
    "from unittest import TestCase\n",
    "tc = TestCase()\n",
    "\n",
    "q = Queue(10)\n",
    "\n",
    "for i in range(6):\n",
    "    q.enqueue(i)\n",
    "    \n",
    "tc.assertEqual(q.data.count(None), 4)\n",
    "\n",
    "for i in range(5):\n",
    "    q.dequeue()\n",
    "    \n",
    "tc.assertFalse(q.empty())\n",
    "tc.assertEqual(q.data.count(None), 9)\n",
    "tc.assertEqual(q.head, q.tail)\n",
    "tc.assertEqual(q.head, 5)\n",
    "\n",
    "for i in range(9):\n",
    "    q.enqueue(i)\n",
    "\n",
    "with tc.assertRaises(RuntimeError):\n",
    "    q.enqueue(10)\n",
    "\n",
    "for x, y in zip(q, [5] + list(range(9))):\n",
    "    tc.assertEqual(x, y)\n",
    "    \n",
    "tc.assertEqual(q.dequeue(), 5)\n",
    "for i in range(9):\n",
    "    tc.assertEqual(q.dequeue(), i)\n",
    "\n",
    "tc.assertTrue(q.empty())"
   ]
  },
  {
   "cell_type": "code",
   "execution_count": 4,
   "metadata": {
    "collapsed": false,
    "deletable": false,
    "editable": false,
    "id": "queue_tests_3",
    "nbgrader": {
     "grade": true,
     "grade_id": "queue_tests_3",
     "locked": true,
     "points": 5,
     "schema_version": 1,
     "solution": false
    },
    "state": "read_only"
   },
   "outputs": [
    {
     "ename": "RuntimeError",
     "evalue": "Queue is full!",
     "output_type": "error",
     "traceback": [
      "\u001b[0;31m---------------------------------------------------------------------------\u001b[0m",
      "\u001b[0;31mRuntimeError\u001b[0m                              Traceback (most recent call last)",
      "\u001b[0;32m<ipython-input-4-c503bd75fab0>\u001b[0m in \u001b[0;36m<module>\u001b[0;34m()\u001b[0m\n\u001b[1;32m     21\u001b[0m \u001b[0;34m\u001b[0m\u001b[0m\n\u001b[1;32m     22\u001b[0m \u001b[0;32mfor\u001b[0m \u001b[0mi\u001b[0m \u001b[0;32min\u001b[0m \u001b[0mrange\u001b[0m\u001b[0;34m(\u001b[0m\u001b[0;36m9\u001b[0m\u001b[0;34m,\u001b[0m \u001b[0;36m14\u001b[0m\u001b[0;34m)\u001b[0m\u001b[0;34m:\u001b[0m\u001b[0;34m\u001b[0m\u001b[0m\n\u001b[0;32m---> 23\u001b[0;31m     \u001b[0mq\u001b[0m\u001b[0;34m.\u001b[0m\u001b[0menqueue\u001b[0m\u001b[0;34m(\u001b[0m\u001b[0mi\u001b[0m\u001b[0;34m)\u001b[0m\u001b[0;34m\u001b[0m\u001b[0m\n\u001b[0m\u001b[1;32m     24\u001b[0m \u001b[0;34m\u001b[0m\u001b[0m\n\u001b[1;32m     25\u001b[0m \u001b[0;32mfor\u001b[0m \u001b[0mi\u001b[0m \u001b[0;32min\u001b[0m \u001b[0mrange\u001b[0m\u001b[0;34m(\u001b[0m\u001b[0;36m4\u001b[0m\u001b[0;34m,\u001b[0m \u001b[0;36m14\u001b[0m\u001b[0;34m)\u001b[0m\u001b[0;34m:\u001b[0m\u001b[0;34m\u001b[0m\u001b[0m\n",
      "\u001b[0;32m<ipython-input-1-09a14376e5d2>\u001b[0m in \u001b[0;36menqueue\u001b[0;34m(self, val)\u001b[0m\n\u001b[1;32m     16\u001b[0m             \u001b[0mself\u001b[0m\u001b[0;34m.\u001b[0m\u001b[0mdata\u001b[0m\u001b[0;34m[\u001b[0m\u001b[0;36m0\u001b[0m\u001b[0;34m]\u001b[0m \u001b[0;34m=\u001b[0m \u001b[0mval\u001b[0m\u001b[0;34m\u001b[0m\u001b[0m\n\u001b[1;32m     17\u001b[0m         \u001b[0;32melif\u001b[0m \u001b[0mself\u001b[0m\u001b[0;34m.\u001b[0m\u001b[0m_inc_idx\u001b[0m\u001b[0;34m(\u001b[0m\u001b[0mself\u001b[0m\u001b[0;34m.\u001b[0m\u001b[0mtail\u001b[0m\u001b[0;34m)\u001b[0m \u001b[0;34m==\u001b[0m \u001b[0mself\u001b[0m\u001b[0;34m.\u001b[0m\u001b[0mhead\u001b[0m\u001b[0;34m:\u001b[0m\u001b[0;34m\u001b[0m\u001b[0m\n\u001b[0;32m---> 18\u001b[0;31m             \u001b[0;32mraise\u001b[0m \u001b[0mRuntimeError\u001b[0m\u001b[0;34m(\u001b[0m\u001b[0;34m'Queue is full!'\u001b[0m\u001b[0;34m)\u001b[0m\u001b[0;34m\u001b[0m\u001b[0m\n\u001b[0m\u001b[1;32m     19\u001b[0m         \u001b[0;32melse\u001b[0m\u001b[0;34m:\u001b[0m\u001b[0;34m\u001b[0m\u001b[0m\n\u001b[1;32m     20\u001b[0m             \u001b[0mself\u001b[0m\u001b[0;34m.\u001b[0m\u001b[0mtail\u001b[0m \u001b[0;34m=\u001b[0m \u001b[0mself\u001b[0m\u001b[0;34m.\u001b[0m\u001b[0m_inc_idx\u001b[0m\u001b[0;34m(\u001b[0m\u001b[0mself\u001b[0m\u001b[0;34m.\u001b[0m\u001b[0mtail\u001b[0m\u001b[0;34m)\u001b[0m\u001b[0;34m\u001b[0m\u001b[0m\n",
      "\u001b[0;31mRuntimeError\u001b[0m: Queue is full!"
     ]
    }
   ],
   "source": [
    "# (5 points)\n",
    "\n",
    "from unittest import TestCase\n",
    "tc = TestCase()\n",
    "\n",
    "q = Queue(5)\n",
    "for i in range(5):\n",
    "    q.enqueue(i)\n",
    "for i in range(4):\n",
    "    q.dequeue()\n",
    "for i in range(5, 9):\n",
    "    q.enqueue(i)\n",
    "    \n",
    "with tc.assertRaises(RuntimeError):\n",
    "    q.enqueue(10)\n",
    "\n",
    "q.resize(10)\n",
    "\n",
    "for x, y in zip(q, range(4, 9)):\n",
    "    tc.assertEqual(x, y)\n",
    "    \n",
    "for i in range(9, 14):\n",
    "    q.enqueue(i)\n",
    "\n",
    "for i in range(4, 14):\n",
    "    tc.assertEqual(q.dequeue(), i)\n",
    "    \n",
    "tc.assertTrue(q.empty())\n",
    "tc.assertEqual(q.head, -1)"
   ]
  },
  {
   "cell_type": "code",
   "execution_count": null,
   "metadata": {
    "collapsed": true
   },
   "outputs": [],
   "source": []
  }
 ],
 "metadata": {
  "anaconda-cloud": {},
  "kernelspec": {
   "display_name": "Python [default]",
   "language": "python",
   "name": "python3"
  },
  "language_info": {
   "codemirror_mode": {
    "name": "ipython",
    "version": 3
   },
   "file_extension": ".py",
   "mimetype": "text/x-python",
   "name": "python",
   "nbconvert_exporter": "python",
   "pygments_lexer": "ipython3",
   "version": "3.5.2"
  },
  "mimir": {
   "data": {},
   "last_submission_id": "",
   "project_id": "5ebae0e9-88f4-48cf-965c-d55aff8e500c"
  },
  "varInspector": {
   "cols": {
    "lenName": 16,
    "lenType": 16,
    "lenVar": 40
   },
   "kernels_config": {
    "python": {
     "delete_cmd_postfix": "",
     "delete_cmd_prefix": "del ",
     "library": "var_list.py",
     "varRefreshCmd": "print(var_dic_list())"
    },
    "r": {
     "delete_cmd_postfix": ") ",
     "delete_cmd_prefix": "rm(",
     "library": "var_list.r",
     "varRefreshCmd": "cat(var_dic_list()) "
    }
   },
   "types_to_exclude": [
    "module",
    "function",
    "builtin_function_or_method",
    "instance",
    "_Feature"
   ],
   "window_display": false
  }
 },
 "nbformat": 4,
 "nbformat_minor": 2
}
