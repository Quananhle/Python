{
 "cells": [
  {
   "cell_type": "code",
   "execution_count": 5,
   "metadata": {
    "collapsed": true
   },
   "outputs": [],
   "source": [
    "from IPython.core.interactiveshell import InteractiveShell\n",
    "InteractiveShell.ast_node_interactivity = \"all\""
   ]
  },
  {
   "cell_type": "code",
   "execution_count": 6,
   "metadata": {
    "collapsed": true
   },
   "outputs": [],
   "source": [
    "def intro(n):\n",
    "    num = n * 2\n",
    "    return num"
   ]
  },
  {
   "cell_type": "code",
   "execution_count": 7,
   "metadata": {
    "collapsed": false
   },
   "outputs": [
    {
     "name": "stdout",
     "output_type": "stream",
     "text": [
      "6\n"
     ]
    }
   ],
   "source": [
    "print (intro(3))"
   ]
  },
  {
   "cell_type": "code",
   "execution_count": 8,
   "metadata": {
    "collapsed": false
   },
   "outputs": [],
   "source": [
    "n = \"0123456789\""
   ]
  },
  {
   "cell_type": "code",
   "execution_count": 70,
   "metadata": {
    "collapsed": false
   },
   "outputs": [
    {
     "name": "stdout",
     "output_type": "stream",
     "text": [
      "1.  02468\n",
      "2.  123456789\n",
      "3.  01234\n",
      "4.  1234\n",
      "5.  012345678\n",
      "6.  0123456789876543210\n",
      "7.  7\n",
      "8.  147\n",
      "9.  97531\n",
      "10. 94\n",
      "11. 0123456\n",
      "12. 9876543210\n",
      "14. 9876543210123456789\n"
     ]
    }
   ],
   "source": [
    "print('1. ',n[::2])\n",
    "print('2. ',n[1::])\n",
    "print('3. ',n[:5])\n",
    "print('4. ',n[1:5])\n",
    "print('5. ',n[:len(n)-1])\n",
    "print('6. ',n[:len(n)-1] + n[::-1])\n",
    "print('7. ',n[-3])\n",
    "print('8. ',n[1:9:3])\n",
    "print('9. ',n[::-2])\n",
    "print('10.',n[::-5])\n",
    "print('11.',n[0:-3])\n",
    "print('12.',n[::-1])\n",
    "print('14.',n[::-1] + n[1:])"
   ]
  },
  {
   "cell_type": "code",
   "execution_count": 44,
   "metadata": {
    "collapsed": false
   },
   "outputs": [],
   "source": [
    "def gen_pattern(chars):\n",
    "    width = len(chars) * 4 - 3\n",
    "    pattern = []\n",
    "\n",
    "    for i in range(len(chars)):\n",
    "        front = chars[-1:-i-1:-1]\n",
    "        end = chars[-i-1:]\n",
    "        text = front + end\n",
    "        pattern.append('.'.join(text).center(width, '.'))\n",
    "    pattern += pattern[-2::-1]\n",
    "    return '\\n'.join(pattern)\n",
    "    raise NotImplementedError()"
   ]
  },
  {
   "cell_type": "code",
   "execution_count": 45,
   "metadata": {
    "collapsed": false
   },
   "outputs": [
    {
     "name": "stdout",
     "output_type": "stream",
     "text": [
      "..........•..........\n",
      "........•.¶.•........\n",
      "......•.¶.§.¶.•......\n",
      "....•.¶.§.∞.§.¶.•....\n",
      "..•.¶.§.∞.¢.∞.§.¶.•..\n",
      "•.¶.§.∞.¢.£.¢.∞.§.¶.•\n",
      "..•.¶.§.∞.¢.∞.§.¶.•..\n",
      "....•.¶.§.∞.§.¶.•....\n",
      "......•.¶.§.¶.•......\n",
      "........•.¶.•........\n",
      "..........•..........\n"
     ]
    }
   ],
   "source": [
    "print (gen_pattern('£¢∞§¶•'))"
   ]
  },
  {
   "cell_type": "code",
   "execution_count": 52,
   "metadata": {
    "collapsed": true
   },
   "outputs": [],
   "source": [
    "#List Comprehensions\n",
    "shark_letters = []\n",
    "\n",
    "for letter in 'shark':\n",
    "    shark_letters.append(letter)"
   ]
  },
  {
   "cell_type": "code",
   "execution_count": 53,
   "metadata": {
    "collapsed": false
   },
   "outputs": [
    {
     "name": "stdout",
     "output_type": "stream",
     "text": [
      "['s', 'h', 'a', 'r', 'k']\n"
     ]
    }
   ],
   "source": [
    "print (shark_letters)"
   ]
  },
  {
   "cell_type": "code",
   "execution_count": 1,
   "metadata": {
    "collapsed": false
   },
   "outputs": [
    {
     "name": "stdout",
     "output_type": "stream",
     "text": [
      "['s', 'h', 'a', 'r', 'k']\n"
     ]
    }
   ],
   "source": [
    "letter_list = [letter for letter in 'shark'] #internal for loop\n",
    "#[thing for thing in list_of_things]\n",
    "print (letter_list)"
   ]
  },
  {
   "cell_type": "code",
   "execution_count": null,
   "metadata": {
    "collapsed": true
   },
   "outputs": [],
   "source": [
    "#dict.setdefault(key, default=None)\n",
    "\n",
    "#Parameters\n",
    "\n",
    "#    key − This is the key to be searched.\n",
    "\n",
    "#    default − This is the Value to be returned in case key is not found."
   ]
  },
  {
   "cell_type": "code",
   "execution_count": 61,
   "metadata": {
    "collapsed": false
   },
   "outputs": [
    {
     "data": {
      "text/plain": [
       "'#123456789#'"
      ]
     },
     "execution_count": 61,
     "metadata": {},
     "output_type": "execute_result"
    }
   ],
   "source": [
    "'123456789'.center(11, '#')"
   ]
  },
  {
   "cell_type": "code",
   "execution_count": 5,
   "metadata": {
    "collapsed": false
   },
   "outputs": [],
   "source": [
    "### Dict comprehension\n",
    "\n",
    "# Syntax: dict.setdefault(key[, default_value])\n",
    "\n",
    "\n",
    "# Parameters: It takes two parameters:\n",
    "# key – Key to be searched in the dictionary.\n",
    "# default_value (optional) – Key with a value default_value is inserted to the dictionary \n",
    "# if key is not in the dictionary. If not provided, the default_value will be None.\n",
    "\n",
    "# Returns:\n",
    "# Value of the key if it is in the dictionary.\n",
    "# None if key is not in the dictionary and default_value is not specified.\n",
    "# default_value if key is not in the dictionary and default_value is specified."
   ]
  },
  {
   "cell_type": "code",
   "execution_count": null,
   "metadata": {
    "collapsed": true
   },
   "outputs": [],
   "source": [
    "d = {}"
   ]
  },
  {
   "cell_type": "code",
   "execution_count": 1,
   "metadata": {
    "collapsed": false
   },
   "outputs": [
    {
     "data": {
      "text/plain": [
       "'1'"
      ]
     },
     "execution_count": 1,
     "metadata": {},
     "output_type": "execute_result"
    }
   ],
   "source": [
    "'1'"
   ]
  },
  {
   "cell_type": "code",
   "execution_count": 2,
   "metadata": {
    "collapsed": false
   },
   "outputs": [
    {
     "data": {
      "text/plain": [
       "str"
      ]
     },
     "execution_count": 2,
     "metadata": {},
     "output_type": "execute_result"
    }
   ],
   "source": [
    "type('1')"
   ]
  }
 ],
 "metadata": {
  "anaconda-cloud": {},
  "kernelspec": {
   "display_name": "Python [default]",
   "language": "python",
   "name": "python3"
  },
  "language_info": {
   "codemirror_mode": {
    "name": "ipython",
    "version": 3
   },
   "file_extension": ".py",
   "mimetype": "text/x-python",
   "name": "python",
   "nbconvert_exporter": "python",
   "pygments_lexer": "ipython3",
   "version": "3.5.2"
  }
 },
 "nbformat": 4,
 "nbformat_minor": 2
}
