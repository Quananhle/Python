{
 "cells": [
  {
   "cell_type": "markdown",
   "metadata": {
    "state": "normal"
   },
   "source": [
    "# Lab 00: Preliminaries"
   ]
  },
  {
   "cell_type": "markdown",
   "metadata": {
    "state": "normal"
   },
   "source": [
    "Welcome to **CS 331: Data Structures and Algorithms**!\n",
    "\n",
    "You will be using [Project Jupyter](https://jupyter.org) — a platform which provides interactive, in-browser Python development environments known as \"notebooks\" — to work on all lab assignments for this class. These notebooks will be hosted, submitted, and graded on Mimir, the website you're currently logged into. \n",
    "\n",
    "This first lab is intended to briefly acquaint you with how to submit notebook assignments on Mimir. We will go over the details of how to use Jupyter notebooks for Python development in class."
   ]
  },
  {
   "cell_type": "markdown",
   "metadata": {
    "state": "normal"
   },
   "source": [
    "## Exercise 1\n",
    "\n",
    "Each lab notebook will contain one or more coding exercises followed by tests. Your job is to complete these exercises — adhering to any criteria given — such that they pass all the tests. Additional tests may also be run when you submit the notebook for grading. Your score is typically available immediately, and you may resubmit your work as many times as you wish (with a 5-minute cooldown period) before the deadline. \n",
    "\n",
    "Because we haven't gone over any Python syntax in class yet, we'll keep this exercise really simple. To complete this exercise, change the body of the following function so that it returns a palindrome — a string that reads the same backwards as forwards — of your choice. The palindrome has to be at least 2 letters long!"
   ]
  },
  {
   "cell_type": "code",
   "execution_count": 19,
   "metadata": {
    "collapsed": true,
    "deletable": false,
    "id": "my_palindrome",
    "starter_code": "def my_palindrome():\n    return ''",
    "state": "graded"
   },
   "outputs": [],
   "source": [
    "def my_palindrome():\n",
    "    return 'racecar'"
   ]
  },
  {
   "cell_type": "markdown",
   "metadata": {
    "state": "normal"
   },
   "source": [
    "After completing the implementation, you can run the following test cell by selecting it and hitting `Shift-Enter` (hold down the `Shift` key and hit `Enter`). If all tests pass, you'll see no output. Otherwise, check out the error shown, fix your implementation, and run the test cell again."
   ]
  },
  {
   "cell_type": "code",
   "execution_count": 20,
   "metadata": {
    "collapsed": false,
    "deletable": false,
    "editable": false,
    "id": "test",
    "state": "read_only"
   },
   "outputs": [],
   "source": [
    "pal = my_palindrome()\n",
    "assert isinstance(pal, str), 'Must return a string'\n",
    "assert pal.strip(), 'String should not be empty'\n",
    "assert len(pal) > 1, 'String should be at least 2 letters long'\n",
    "assert pal == pal[::-1], 'String is not a palindrome'"
   ]
  },
  {
   "cell_type": "markdown",
   "metadata": {
    "state": "normal"
   },
   "source": [
    "When done, click the \"Submit Notebook\" button at the top of the screen and then on the lab title (\"Lab 00\") in the resulting popup menu. You should get a \"Submission Successful\" notification, and a link you can use to inspect your submission that the resulting score.\n",
    "\n",
    "That's it! See you in class!"
   ]
  }
 ],
 "metadata": {
  "anaconda-cloud": {},
  "kernelspec": {
   "display_name": "Python [default]",
   "language": "python",
   "name": "python3"
  },
  "language_info": {
   "codemirror_mode": {
    "name": "ipython",
    "version": 3
   },
   "file_extension": ".py",
   "mimetype": "text/x-python",
   "name": "python",
   "nbconvert_exporter": "python",
   "pygments_lexer": "ipython3",
   "version": "3.5.2"
  },
  "mimir": {
   "data": {},
   "last_submission_id": "effd67fe-aa0d-438a-bd17-cd286bb98fa1",
   "project_id": "50fd808a-d4d8-4a46-9bf3-bed12193f796"
  },
  "varInspector": {
   "cols": {
    "lenName": 16,
    "lenType": 16,
    "lenVar": 40
   },
   "kernels_config": {
    "python": {
     "delete_cmd_postfix": "",
     "delete_cmd_prefix": "del ",
     "library": "var_list.py",
     "varRefreshCmd": "print(var_dic_list())"
    },
    "r": {
     "delete_cmd_postfix": ") ",
     "delete_cmd_prefix": "rm(",
     "library": "var_list.r",
     "varRefreshCmd": "cat(var_dic_list()) "
    }
   },
   "types_to_exclude": [
    "module",
    "function",
    "builtin_function_or_method",
    "instance",
    "_Feature"
   ],
   "window_display": false
  }
 },
 "nbformat": 4,
 "nbformat_minor": 2
}
