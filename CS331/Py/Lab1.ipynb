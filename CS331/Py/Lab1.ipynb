{
 "cells": [
  {
   "cell_type": "markdown",
   "metadata": {
    "state": "normal"
   },
   "source": [
    "# Lab 01: Basic Python"
   ]
  },
  {
   "cell_type": "markdown",
   "metadata": {
    "state": "normal"
   },
   "source": [
    "## Exercise 1: Perfect Numbers\n",
    "\n",
    "Most of the lab notebooks you'll be working on for this class will come with a fair bit of skeleton code --- i.e., stubbed out classes and functions that you need to complete or modify to get working correctly.\n",
    "\n",
    "In the cell below, for instance, you'll find a stubbed out function named `is_perfect`, which should return `True` if the number passed to it is a \"perfect\" number, and `False` otherwise.\n",
    "\n",
    "A perfect number is a postive integer whose value is equal to the sum of its proper divisors (i.e., its factors excluding the number itself). 6 is the first perfect number, as its divisors 1, 2, and 3 add up to 6.\n",
    "\n",
    "Fill in your own implementation of the function below:"
   ]
  },
  {
   "cell_type": "code",
   "execution_count": 10,
   "metadata": {
    "collapsed": true,
    "deletable": false,
    "id": "is_perfect",
    "nbgrader": {
     "grade": false,
     "grade_id": "is_perfect",
     "locked": false,
     "schema_version": 1,
     "solution": true
    },
    "starter_code": "def is_perfect(n):\n    ",
    "state": "graded"
   },
   "outputs": [],
   "source": [
    "def is_perfect(n):\n",
    "    if n <= 2:\n",
    "        return False\n",
    "    sum = 0\n",
    "    for d in range(1, n//2+1):\n",
    "        if n % d == 0:\n",
    "            sum += d\n",
    "    if sum == n:\n",
    "        return True\n",
    "\n",
    "    return False"
   ]
  },
  {
   "cell_type": "markdown",
   "metadata": {
    "state": "normal"
   },
   "source": [
    "Each exercise will also be accompanied by one or more *unit test* cells, each of which is meant to test some aspect of your implementation. When you run the unit test cell(s) after evaluating your implementation, you'll either find errors reported, which should help you identify what you need to fix, or they will complete silently, which means you've passed the test(s).\n",
    "\n",
    "**It's important that you ensure your implementation and test cell(s) actually run to completion before moving on** --- there's a big difference between a cell not producing an error and not completing! (A \"`In [*]`\" marker next to the cell means that it's still being evaluated by the interpreter.)\n",
    "\n",
    "We will often run additional *hidden tests* upon submission of your notebook to guard against hardcoded solutions.  While you won't see the specific test cases, you can resubmit your work as many times as you wish (before the deadline) to ensure they pass."
   ]
  },
  {
   "cell_type": "code",
   "execution_count": 11,
   "metadata": {
    "collapsed": true,
    "deletable": false,
    "editable": false,
    "id": "is_perfect_test",
    "nbgrader": {
     "grade": true,
     "grade_id": "is_perfect_test",
     "locked": true,
     "points": 3,
     "schema_version": 1,
     "solution": false
    },
    "state": "read_only"
   },
   "outputs": [],
   "source": [
    "# (3 points)\n",
    "import unittest\n",
    "tc = unittest.TestCase()\n",
    "\n",
    "for n in (6, 28, 496):\n",
    "    tc.assertTrue(is_perfect(n), '{} should be perfect'.format(n))\n",
    "\n",
    "for n in (1, 2, 3, 4, 5, 10, 20):\n",
    "    tc.assertFalse(is_perfect(n), '{} should not be perfect'.format(n))\n",
    "\n",
    "for n in range(30, 450):\n",
    "    tc.assertFalse(is_perfect(n), '{} should not be perfect'.format(n))"
   ]
  },
  {
   "cell_type": "markdown",
   "metadata": {
    "state": "normal"
   },
   "source": [
    "## Exercise 2: Multiples of 3 and 5\n",
    "\n",
    "If we list all the natural numbers below 10 that are multiples of 3 or 5, we get 3, 5, 6 and 9. The sum of these multiples is 23.\n",
    "\n",
    "Complete the following function, which finds the sum of all the multiples of 3 or 5 below the argument `n`."
   ]
  },
  {
   "cell_type": "code",
   "execution_count": null,
   "metadata": {
    "collapsed": true,
    "deletable": false,
    "id": "multiples_of_3_and_5",
    "nbgrader": {
     "grade": false,
     "grade_id": "multiples_of_3_and_5",
     "locked": false,
     "schema_version": 1,
     "solution": true
    },
    "starter_code": "def multiples_of_3_and_5(n):\n    ",
    "state": "graded"
   },
   "outputs": [],
   "source": [
    "def multiples_of_3_and_5(n):\n",
    "    sum = 0\n",
    "    for x in range(1, n):\n",
    "        if x % 3 == 0 or x % 5 == 0:\n",
    "            sum += x\n",
    "    return sum"
   ]
  },
  {
   "cell_type": "code",
   "execution_count": null,
   "metadata": {
    "collapsed": true,
    "deletable": false,
    "editable": false,
    "id": "multiples_of_3_and_5_test",
    "nbgrader": {
     "grade": true,
     "grade_id": "multiples_of_3_and_5_test",
     "locked": true,
     "points": 3,
     "schema_version": 1,
     "solution": false
    },
    "state": "read_only"
   },
   "outputs": [],
   "source": [
    "# (3 points)\n",
    "import unittest\n",
    "tc = unittest.TestCase()\n",
    "tc.assertEqual(multiples_of_3_and_5(10), 23)\n",
    "tc.assertEqual(multiples_of_3_and_5(500), 57918)\n",
    "tc.assertEqual(multiples_of_3_and_5(1000), 233168)"
   ]
  },
  {
   "cell_type": "markdown",
   "metadata": {
    "state": "normal"
   },
   "source": [
    "## Exercise 3: Integer Right Triangles\n",
    "\n",
    "Given a perimeter of 60, we can find two right triangles with integral length sides: [(10, 24, 26), (15, 20, 25)]. Complete the following function, which takes an integer `p` and returns the number of unique integer right triangles with perimeter `p`.\n",
    "\n",
    "Note that your solution should take care to limit the number of triangles it tests --- **your function must complete in under 3 seconds for all values of `p` used in the test cells below to earn credit.**"
   ]
  },
  {
   "cell_type": "code",
   "execution_count": 5,
   "metadata": {
    "collapsed": true,
    "deletable": false,
    "id": "integer_right_triangles",
    "nbgrader": {
     "grade": false,
     "grade_id": "integer_right_triangles",
     "locked": false,
     "schema_version": 1,
     "solution": true
    },
    "starter_code": "def integer_right_triangles(p):\n    ",
    "state": "graded"
   },
   "outputs": [],
   "source": [
    "def integer_right_triangles(p):\n",
    "    sides = 0\n",
    "    # sides = []\n",
    "    for l in range(1, p//2):\n",
    "        for r in range(l, p//2):\n",
    "            if l**2 + r**2 == (p-(l+r))**2:\n",
    "                sides += 1\n",
    "                # sides.append((l, r, p-(l+r)))\n",
    "    return sides"
   ]
  },
  {
   "cell_type": "code",
   "execution_count": 6,
   "metadata": {
    "collapsed": true,
    "deletable": false,
    "editable": false,
    "id": "integer_right_triangles_tests_1",
    "nbgrader": {
     "grade": true,
     "grade_id": "integer_right_triangles_tests_1",
     "locked": true,
     "points": 1,
     "schema_version": 1,
     "solution": false
    },
    "state": "read_only"
   },
   "outputs": [],
   "source": [
    "# (2 points)\n",
    "import unittest\n",
    "tc = unittest.TestCase()\n",
    "tc.assertEqual(integer_right_triangles(60), 2)\n",
    "tc.assertEqual(integer_right_triangles(100), 0)\n",
    "tc.assertEqual(integer_right_triangles(180), 3)"
   ]
  },
  {
   "cell_type": "markdown",
   "metadata": {
    "state": "normal"
   },
   "source": [
    "## Exercise 4: Simple ASCII Art\n",
    "\n",
    "For this next exercise, you'll need to complete the function `gen_pattern`, which, when called with a string of length $\\ge$ 1, will print an ASCII art pattern of concentric diamonds using those characters. The following are examples of patterns printed by the function (note the newline at the end of the last line!):\n",
    "\n",
    "    > gen_pattern('X')\n",
    "    \n",
    "    X\n",
    "    \n",
    "    > gen_pattern('XY')\n",
    "    \n",
    "    ..Y..\n",
    "    Y.X.Y\n",
    "    ..Y..\n",
    "    \n",
    "    > gen_pattern('WXYZ')\n",
    "    \n",
    "    ......Z......\n",
    "    ....Z.Y.Z....\n",
    "    ..Z.Y.X.Y.Z..\n",
    "    Z.Y.X.W.X.Y.Z\n",
    "    ..Z.Y.X.Y.Z..\n",
    "    ....Z.Y.Z....\n",
    "    ......Z......\n",
    "    \n",
    "You ought to find the string [`join`](https://docs.python.org/3.6/library/stdtypes.html#str.join) and [`center`](https://docs.python.org/3.6/library/stdtypes.html#str.center) methods helpful in your implementation. They are demonstrated here:\n",
    "\n",
    "    > '*'.join('abcde')\n",
    "    \n",
    "    'a*b*c*d*e'\n",
    "    \n",
    "    > 'hello'.center(11, '*')\n",
    "    \n",
    "    '***hello***'\n",
    "    \n",
    "Complete the `gen_pattern` function, below:"
   ]
  },
  {
   "cell_type": "code",
   "execution_count": 1,
   "metadata": {
    "collapsed": true,
    "deletable": false,
    "id": "gen_pattern",
    "nbgrader": {
     "grade": false,
     "grade_id": "gen_pattern",
     "locked": false,
     "schema_version": 1,
     "solution": true
    },
    "starter_code": "def gen_pattern(chars):\n    ",
    "state": "graded"
   },
   "outputs": [],
   "source": [
    "def gen_pattern(chars):\n",
    "    lines = []\n",
    "    n = len(chars)\n",
    "    height = n+(n-1)\n",
    "    width = height*2-1\n",
    "    for i in range(n, 0, -1):\n",
    "        pat = ([chars[x-1] for x in range(n, i-1, -1)] \n",
    "               + [chars[x-1] for x in range(i+1, n+1)])\n",
    "        lines.append('.'.join(pat).center(width, '.'))\n",
    "    for i in range(2, n+1):\n",
    "        pat = ([chars[x-1] for x in range(n, i-1, -1)] \n",
    "               + [chars[x-1] for x in range(i+1, n+1)])\n",
    "        lines.append('.'.join(pat).center(width, '.'))\n",
    "    print('\\n'.join(lines))"
   ]
  },
  {
   "cell_type": "code",
   "execution_count": 2,
   "metadata": {
    "collapsed": false,
    "deletable": false,
    "editable": false,
    "id": "gen_pattern1",
    "state": "read_only"
   },
   "outputs": [
    {
     "name": "stdout",
     "output_type": "stream",
     "text": [
      "@\n"
     ]
    }
   ],
   "source": [
    "# (1 point) output:\n",
    "# @\n",
    "\n",
    "gen_pattern('@')"
   ]
  },
  {
   "cell_type": "code",
   "execution_count": 3,
   "metadata": {
    "collapsed": false,
    "deletable": false,
    "editable": false,
    "id": "gen_pattern2",
    "state": "read_only"
   },
   "outputs": [
    {
     "name": "stdout",
     "output_type": "stream",
     "text": [
      "..%..\n",
      "%.@.%\n",
      "..%..\n"
     ]
    }
   ],
   "source": [
    "# (1 point) output:\n",
    "# ..%..\n",
    "# %.@.%\n",
    "# ..%..\n",
    "\n",
    "gen_pattern('@%')"
   ]
  },
  {
   "cell_type": "code",
   "execution_count": 4,
   "metadata": {
    "collapsed": false,
    "deletable": false,
    "editable": false,
    "id": "gen_pattern3",
    "state": "read_only"
   },
   "outputs": [
    {
     "name": "stdout",
     "output_type": "stream",
     "text": [
      "....C....\n",
      "..C.B.C..\n",
      "C.B.A.B.C\n",
      "..C.B.C..\n",
      "....C....\n"
     ]
    }
   ],
   "source": [
    "# (1 point) output:\n",
    "# ....C....\n",
    "# ..C.B.C..\n",
    "# C.B.A.B.C\n",
    "# ..C.B.C..\n",
    "# ....C....\n",
    "\n",
    "gen_pattern('ABC')"
   ]
  },
  {
   "cell_type": "code",
   "execution_count": 5,
   "metadata": {
    "collapsed": false,
    "deletable": false,
    "editable": false,
    "id": "gen_pattern5",
    "state": "read_only"
   },
   "outputs": [
    {
     "name": "stdout",
     "output_type": "stream",
     "text": [
      "........#........\n",
      "......#.#.#......\n",
      "....#.#.#.#.#....\n",
      "..#.#.#.#.#.#.#..\n",
      "#.#.#.#.#.#.#.#.#\n",
      "..#.#.#.#.#.#.#..\n",
      "....#.#.#.#.#....\n",
      "......#.#.#......\n",
      "........#........\n"
     ]
    }
   ],
   "source": [
    "# (1 point) output:\n",
    "# ........#........\n",
    "# ......#.#.#......\n",
    "# ....#.#.#.#.#....\n",
    "# ..#.#.#.#.#.#.#..\n",
    "# #.#.#.#.#.#.#.#.#\n",
    "# ..#.#.#.#.#.#.#..\n",
    "# ....#.#.#.#.#....\n",
    "# ......#.#.#......\n",
    "# ........#........\n",
    "\n",
    "gen_pattern('#####')"
   ]
  },
  {
   "cell_type": "code",
   "execution_count": 6,
   "metadata": {
    "collapsed": false,
    "deletable": false,
    "editable": false,
    "id": "gen_pattern_tests16",
    "nbgrader": {
     "grade": true,
     "grade_id": "gen_pattern_tests_2",
     "locked": true,
     "points": 2,
     "schema_version": 1,
     "solution": false
    },
    "state": "read_only"
   },
   "outputs": [
    {
     "name": "stdout",
     "output_type": "stream",
     "text": [
      "..............................p..............................\n",
      "............................p.o.p............................\n",
      "..........................p.o.n.o.p..........................\n",
      "........................p.o.n.m.n.o.p........................\n",
      "......................p.o.n.m.l.m.n.o.p......................\n",
      "....................p.o.n.m.l.k.l.m.n.o.p....................\n",
      "..................p.o.n.m.l.k.j.k.l.m.n.o.p..................\n",
      "................p.o.n.m.l.k.j.i.j.k.l.m.n.o.p................\n",
      "..............p.o.n.m.l.k.j.i.h.i.j.k.l.m.n.o.p..............\n",
      "............p.o.n.m.l.k.j.i.h.g.h.i.j.k.l.m.n.o.p............\n",
      "..........p.o.n.m.l.k.j.i.h.g.f.g.h.i.j.k.l.m.n.o.p..........\n",
      "........p.o.n.m.l.k.j.i.h.g.f.e.f.g.h.i.j.k.l.m.n.o.p........\n",
      "......p.o.n.m.l.k.j.i.h.g.f.e.d.e.f.g.h.i.j.k.l.m.n.o.p......\n",
      "....p.o.n.m.l.k.j.i.h.g.f.e.d.c.d.e.f.g.h.i.j.k.l.m.n.o.p....\n",
      "..p.o.n.m.l.k.j.i.h.g.f.e.d.c.b.c.d.e.f.g.h.i.j.k.l.m.n.o.p..\n",
      "p.o.n.m.l.k.j.i.h.g.f.e.d.c.b.a.b.c.d.e.f.g.h.i.j.k.l.m.n.o.p\n",
      "..p.o.n.m.l.k.j.i.h.g.f.e.d.c.b.c.d.e.f.g.h.i.j.k.l.m.n.o.p..\n",
      "....p.o.n.m.l.k.j.i.h.g.f.e.d.c.d.e.f.g.h.i.j.k.l.m.n.o.p....\n",
      "......p.o.n.m.l.k.j.i.h.g.f.e.d.e.f.g.h.i.j.k.l.m.n.o.p......\n",
      "........p.o.n.m.l.k.j.i.h.g.f.e.f.g.h.i.j.k.l.m.n.o.p........\n",
      "..........p.o.n.m.l.k.j.i.h.g.f.g.h.i.j.k.l.m.n.o.p..........\n",
      "............p.o.n.m.l.k.j.i.h.g.h.i.j.k.l.m.n.o.p............\n",
      "..............p.o.n.m.l.k.j.i.h.i.j.k.l.m.n.o.p..............\n",
      "................p.o.n.m.l.k.j.i.j.k.l.m.n.o.p................\n",
      "..................p.o.n.m.l.k.j.k.l.m.n.o.p..................\n",
      "....................p.o.n.m.l.k.l.m.n.o.p....................\n",
      "......................p.o.n.m.l.m.n.o.p......................\n",
      "........................p.o.n.m.n.o.p........................\n",
      "..........................p.o.n.o.p..........................\n",
      "............................p.o.p............................\n",
      "..............................p..............................\n"
     ]
    }
   ],
   "source": [
    "# (2 points) output:\n",
    "# ..............................p..............................\n",
    "# ............................p.o.p............................\n",
    "# ..........................p.o.n.o.p..........................\n",
    "# ........................p.o.n.m.n.o.p........................\n",
    "# ......................p.o.n.m.l.m.n.o.p......................\n",
    "# ....................p.o.n.m.l.k.l.m.n.o.p....................\n",
    "# ..................p.o.n.m.l.k.j.k.l.m.n.o.p..................\n",
    "# ................p.o.n.m.l.k.j.i.j.k.l.m.n.o.p................\n",
    "# ..............p.o.n.m.l.k.j.i.h.i.j.k.l.m.n.o.p..............\n",
    "# ............p.o.n.m.l.k.j.i.h.g.h.i.j.k.l.m.n.o.p............\n",
    "# ..........p.o.n.m.l.k.j.i.h.g.f.g.h.i.j.k.l.m.n.o.p..........\n",
    "# ........p.o.n.m.l.k.j.i.h.g.f.e.f.g.h.i.j.k.l.m.n.o.p........\n",
    "# ......p.o.n.m.l.k.j.i.h.g.f.e.d.e.f.g.h.i.j.k.l.m.n.o.p......\n",
    "# ....p.o.n.m.l.k.j.i.h.g.f.e.d.c.d.e.f.g.h.i.j.k.l.m.n.o.p....\n",
    "# ..p.o.n.m.l.k.j.i.h.g.f.e.d.c.b.c.d.e.f.g.h.i.j.k.l.m.n.o.p..\n",
    "# p.o.n.m.l.k.j.i.h.g.f.e.d.c.b.a.b.c.d.e.f.g.h.i.j.k.l.m.n.o.p\n",
    "# ..p.o.n.m.l.k.j.i.h.g.f.e.d.c.b.c.d.e.f.g.h.i.j.k.l.m.n.o.p..\n",
    "# ....p.o.n.m.l.k.j.i.h.g.f.e.d.c.d.e.f.g.h.i.j.k.l.m.n.o.p....\n",
    "# ......p.o.n.m.l.k.j.i.h.g.f.e.d.e.f.g.h.i.j.k.l.m.n.o.p......\n",
    "# ........p.o.n.m.l.k.j.i.h.g.f.e.f.g.h.i.j.k.l.m.n.o.p........\n",
    "# ..........p.o.n.m.l.k.j.i.h.g.f.g.h.i.j.k.l.m.n.o.p..........\n",
    "# ............p.o.n.m.l.k.j.i.h.g.h.i.j.k.l.m.n.o.p............\n",
    "# ..............p.o.n.m.l.k.j.i.h.i.j.k.l.m.n.o.p..............\n",
    "# ................p.o.n.m.l.k.j.i.j.k.l.m.n.o.p................\n",
    "# ..................p.o.n.m.l.k.j.k.l.m.n.o.p..................\n",
    "# ....................p.o.n.m.l.k.l.m.n.o.p....................\n",
    "# ......................p.o.n.m.l.m.n.o.p......................\n",
    "# ........................p.o.n.m.n.o.p........................\n",
    "# ..........................p.o.n.o.p..........................\n",
    "# ............................p.o.p............................\n",
    "# ..............................p..............................\n",
    "\n",
    "gen_pattern('abcdefghijklmnop')"
   ]
  }
 ],
 "metadata": {
  "anaconda-cloud": {},
  "kernelspec": {
   "display_name": "Python [default]",
   "language": "python",
   "name": "python3"
  },
  "language_info": {
   "codemirror_mode": {
    "name": "ipython",
    "version": 3
   },
   "file_extension": ".py",
   "mimetype": "text/x-python",
   "name": "python",
   "nbconvert_exporter": "python",
   "pygments_lexer": "ipython3",
   "version": "3.5.2"
  },
  "mimir": {
   "data": {},
   "last_submission_id": "",
   "project_id": "197d6c62-e5c7-4c36-9517-9c52c151ac8e"
  },
  "varInspector": {
   "cols": {
    "lenName": 16,
    "lenType": 16,
    "lenVar": 40
   },
   "kernels_config": {
    "python": {
     "delete_cmd_postfix": "",
     "delete_cmd_prefix": "del ",
     "library": "var_list.py",
     "varRefreshCmd": "print(var_dic_list())"
    },
    "r": {
     "delete_cmd_postfix": ") ",
     "delete_cmd_prefix": "rm(",
     "library": "var_list.r",
     "varRefreshCmd": "cat(var_dic_list()) "
    }
   },
   "types_to_exclude": [
    "module",
    "function",
    "builtin_function_or_method",
    "instance",
    "_Feature"
   ],
   "window_display": false
  }
 },
 "nbformat": 4,
 "nbformat_minor": 2
}
